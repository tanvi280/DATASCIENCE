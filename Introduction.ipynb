{
 "cells": [
  {
   "cell_type": "code",
   "execution_count": 6,
   "id": "4c93a21a",
   "metadata": {},
   "outputs": [
    {
     "name": "stdout",
     "output_type": "stream",
     "text": [
      "[0]\n",
      "[0, 1]\n",
      "[0, 1, 4]\n",
      "[0, 1, 4, 9]\n",
      "[0, 1, 4, 9, 16]\n",
      "[0, 1, 4, 9, 16, 25]\n",
      "[0, 1, 4, 9, 16, 25, 36]\n",
      "[0, 1, 4, 9, 16, 25, 36, 49]\n",
      "[0, 1, 4, 9, 16, 25, 36, 49, 64]\n",
      "[0, 1, 4, 9, 16, 25, 36, 49, 64, 81]\n"
     ]
    }
   ],
   "source": [
    "# For Loop\n",
    "list = []\n",
    "for i in range (0,10):\n",
    "    list.append(i*i)\n",
    "    print(list)\n",
    "\n",
    "\n",
    "\n"
   ]
  },
  {
   "cell_type": "code",
   "execution_count": 7,
   "id": "b07adce3",
   "metadata": {},
   "outputs": [
    {
     "data": {
      "text/plain": [
       "[0, 1, 4, 9, 16, 25, 36, 49, 64, 81]"
      ]
     },
     "execution_count": 7,
     "metadata": {},
     "output_type": "execute_result"
    }
   ],
   "source": [
    "# List Comprehnsion\n",
    "# Variable = [expression for count in range(x1,x2)]\n",
    "\n",
    "square = [i*i for i in range(0,10)]\n",
    "square\n",
    "\n"
   ]
  },
  {
   "cell_type": "code",
   "execution_count": 8,
   "id": "18271b8b",
   "metadata": {},
   "outputs": [
    {
     "data": {
      "text/plain": [
       "[False, True, False, True, False, True, False, True, False, True]"
      ]
     },
     "execution_count": 8,
     "metadata": {},
     "output_type": "execute_result"
    }
   ],
   "source": [
    "odd = [i%2 == 1 for i in range (0,10)]\n",
    "odd\n"
   ]
  },
  {
   "cell_type": "code",
   "execution_count": 9,
   "id": "5b01bcf5",
   "metadata": {},
   "outputs": [
    {
     "data": {
      "text/plain": [
       "[0, 1, 4, 9, 16, 25, 36, 49, 64, 81]"
      ]
     },
     "execution_count": 9,
     "metadata": {},
     "output_type": "execute_result"
    }
   ],
   "source": [
    "square = [i**2 for i in range (0,10)]\n",
    "square\n"
   ]
  },
  {
   "cell_type": "code",
   "execution_count": 12,
   "id": "72f83f29",
   "metadata": {},
   "outputs": [
    {
     "data": {
      "text/plain": [
       "['ANIKET', 'PARAG', 'TANVI', 'AJAY', 'NIKHIL', 'MIHIR']"
      ]
     },
     "execution_count": 12,
     "metadata": {},
     "output_type": "execute_result"
    }
   ],
   "source": [
    "list = ['Aniket','Parag','Tanvi','Ajay','Nikhil','Mihir']\n",
    "new_list = [list.upper() for list in list ]\n",
    "new_list\n"
   ]
  },
  {
   "cell_type": "code",
   "execution_count": 13,
   "id": "f55b1f17",
   "metadata": {},
   "outputs": [
    {
     "data": {
      "text/plain": [
       "['aniket', 'parag', 'tanvi', 'ajay', 'nikhil', 'mihir']"
      ]
     },
     "execution_count": 13,
     "metadata": {},
     "output_type": "execute_result"
    }
   ],
   "source": [
    "new_list = [list.lower() for list in list]\n",
    "new_list\n"
   ]
  },
  {
   "cell_type": "code",
   "execution_count": 14,
   "id": "e6fb86e3",
   "metadata": {},
   "outputs": [
    {
     "data": {
      "text/plain": [
       "[6, 5, 5, 4, 6, 5]"
      ]
     },
     "execution_count": 14,
     "metadata": {},
     "output_type": "execute_result"
    }
   ],
   "source": [
    "new_list = [len(list)for list in list]\n",
    "new_list\n"
   ]
  },
  {
   "cell_type": "code",
   "execution_count": 15,
   "id": "53a8c076",
   "metadata": {},
   "outputs": [
    {
     "data": {
      "text/plain": [
       "31"
      ]
     },
     "execution_count": 15,
     "metadata": {},
     "output_type": "execute_result"
    }
   ],
   "source": [
    "new_list = (sum([len (list)for list in list]))\n",
    "new_list"
   ]
  },
  {
   "cell_type": "code",
   "execution_count": 16,
   "id": "3b386c06",
   "metadata": {},
   "outputs": [
    {
     "data": {
      "text/plain": [
       "6"
      ]
     },
     "execution_count": 16,
     "metadata": {},
     "output_type": "execute_result"
    }
   ],
   "source": [
    "new_list = (max([len (list)for list in list]))\n",
    "new_list"
   ]
  },
  {
   "cell_type": "code",
   "execution_count": 17,
   "id": "c84f33fb",
   "metadata": {},
   "outputs": [
    {
     "data": {
      "text/plain": [
       "4"
      ]
     },
     "execution_count": 17,
     "metadata": {},
     "output_type": "execute_result"
    }
   ],
   "source": [
    "new_list = (min([len (list)for list in list]))\n",
    "new_list"
   ]
  },
  {
   "cell_type": "code",
   "execution_count": 20,
   "id": "49a4e7ac",
   "metadata": {},
   "outputs": [
    {
     "data": {
      "text/plain": [
       "20"
      ]
     },
     "execution_count": 20,
     "metadata": {},
     "output_type": "execute_result"
    }
   ],
   "source": [
    "# logic: 0 2 4 6 8 : sum : 20\n",
    "n = sum([x for x in range(0,10)if x % 2 == 0])\n",
    "n \n",
    "\n",
    "\n",
    "\n"
   ]
  },
  {
   "cell_type": "code",
   "execution_count": 21,
   "id": "8d33a5b3",
   "metadata": {},
   "outputs": [
    {
     "data": {
      "text/plain": [
       "25"
      ]
     },
     "execution_count": 21,
     "metadata": {},
     "output_type": "execute_result"
    }
   ],
   "source": [
    "# logic : 1 3 5 7 9 : sum : 25\n",
    "n = sum([x for x in range(0,10)if x % 2 != 0])\n",
    "n"
   ]
  },
  {
   "cell_type": "code",
   "execution_count": 22,
   "id": "8f3ed16b",
   "metadata": {},
   "outputs": [
    {
     "data": {
      "text/plain": [
       "120"
      ]
     },
     "execution_count": 22,
     "metadata": {},
     "output_type": "execute_result"
    }
   ],
   "source": [
    "# 5! = 5*4*3*2*1 ---> 120\n",
    "import math\n",
    "math.factorial(5)\n"
   ]
  },
  {
   "cell_type": "code",
   "execution_count": 24,
   "id": "7def1abb",
   "metadata": {},
   "outputs": [
    {
     "name": "stdout",
     "output_type": "stream",
     "text": [
      "2.23606797749979\n",
      "2.23606797749979\n"
     ]
    }
   ],
   "source": [
    "# Square Root \n",
    "print(5**0.5)\n",
    "print(math.sqrt(5))\n"
   ]
  },
  {
   "cell_type": "code",
   "execution_count": 23,
   "id": "47e589f2",
   "metadata": {},
   "outputs": [
    {
     "data": {
      "text/plain": [
       "4.0"
      ]
     },
     "execution_count": 23,
     "metadata": {},
     "output_type": "execute_result"
    }
   ],
   "source": [
    "math.pow(2,2)\n"
   ]
  },
  {
   "cell_type": "code",
   "execution_count": 25,
   "id": "5da4a232",
   "metadata": {},
   "outputs": [
    {
     "name": "stdout",
     "output_type": "stream",
     "text": [
      "0.6989700043360189\n"
     ]
    }
   ],
   "source": [
    "print (math.log10(5))"
   ]
  },
  {
   "cell_type": "code",
   "execution_count": null,
   "id": "04998ace",
   "metadata": {},
   "outputs": [],
   "source": [
    "# import math\n",
    "# import os\n",
    "# import datetime\n",
    "\n"
   ]
  },
  {
   "cell_type": "code",
   "execution_count": null,
   "id": "d0e55ac2",
   "metadata": {},
   "outputs": [
    {
     "name": "stdout",
     "output_type": "stream",
     "text": [
      "Hello World\n"
     ]
    }
   ],
   "source": [
    "# Define Function\n",
    "def sum():  # sum() function defination\n",
    "    print('Hello World')\n",
    "ans = sum() # sum () function calling and storing in variable ans"
   ]
  },
  {
   "cell_type": "code",
   "execution_count": 10,
   "id": "769f9ebe",
   "metadata": {},
   "outputs": [
    {
     "name": "stdout",
     "output_type": "stream",
     "text": [
      "The addition of two numbers 100and 200 is  300\n"
     ]
    }
   ],
   "source": [
    "def sum(num1,num2):\n",
    "    num3 = num1 + num2\n",
    "    print (f'The addition of two numbers {num1}and {num2} is ',num3)\n",
    "    return num3\n",
    "\n",
    "ans = sum(100,200)\n",
    "# we use fuction for reuseablity\n"
   ]
  },
  {
   "cell_type": "code",
   "execution_count": null,
   "id": "ec801906",
   "metadata": {},
   "outputs": [],
   "source": [
    "num1 = float(input('Enter first number:'))\n",
    "num2 = float(input('Enter the second number:'))\n",
    "\n",
    "def sum(num1,num2):\n",
    "    num3 = num1 + num2\n",
    "    print(f'The addition of two numbers {num1}and {num2} is ',num3)\n",
    "    "
   ]
  },
  {
   "cell_type": "code",
   "execution_count": 13,
   "id": "78c75d4b",
   "metadata": {},
   "outputs": [
    {
     "name": "stdout",
     "output_type": "stream",
     "text": [
      "The addition of two numbers 10.0and 20.0 is  30.0\n",
      "The mulitplication of two numbers 10.0and 20.0 is  200.0\n"
     ]
    }
   ],
   "source": [
    "def mul(num1,num2):\n",
    "    num3 = num1 * num2\n",
    "    print(f'The mulitplication of two numbers {num1}and {num2} is ',num3)\n",
    "    return num3\n",
    "addition = sum(num1,num2)\n",
    "multiplication = mul(num1,num2)\n",
    "\n"
   ]
  },
  {
   "cell_type": "code",
   "execution_count": 14,
   "id": "33f10777",
   "metadata": {},
   "outputs": [
    {
     "data": {
      "text/plain": [
       "30.0"
      ]
     },
     "execution_count": 14,
     "metadata": {},
     "output_type": "execute_result"
    }
   ],
   "source": [
    "addition "
   ]
  },
  {
   "cell_type": "code",
   "execution_count": 15,
   "id": "7c2d3ea4",
   "metadata": {},
   "outputs": [
    {
     "data": {
      "text/plain": [
       "200.0"
      ]
     },
     "execution_count": 15,
     "metadata": {},
     "output_type": "execute_result"
    }
   ],
   "source": [
    "multiplication"
   ]
  },
  {
   "cell_type": "code",
   "execution_count": 20,
   "id": "72164042",
   "metadata": {},
   "outputs": [
    {
     "name": "stdout",
     "output_type": "stream",
     "text": [
      "The give string is Palindrom\n"
     ]
    }
   ],
   "source": [
    "text = input('Enter the String')\n",
    "text1 = text[::-1]\n",
    "\n",
    "def  pal(text):\n",
    "    if text == text1:\n",
    "        print ('The give string is Palindrom')\n",
    "    else:\n",
    "        print('The give string is  not a Palindrom')\n",
    "    \n",
    "\n",
    "pal(text)\n",
    "\n"
   ]
  },
  {
   "cell_type": "code",
   "execution_count": 27,
   "id": "9d91b3e6",
   "metadata": {},
   "outputs": [
    {
     "name": "stdout",
     "output_type": "stream",
     "text": [
      "New Balance is  9000.0\n"
     ]
    }
   ],
   "source": [
    "''' \n",
    "balnce = 1000\n",
    "withdraw = ask User\n",
    "Theshould balance = 2000\n",
    "''' \n",
    "balance = 10000\n",
    "threshould = 2000\n",
    "withdraw  = float(input('Enter the  Amount to Withdraw'))\n",
    "if withdraw >= balance :\n",
    "     print ('Insufficient Balance')\n",
    "if withdraw <= balance:\n",
    "  new_balance = balance - withdraw\n",
    "  if new_balance >= 2000:\n",
    "       print ('New Balance is ',new_balance)\n",
    "\n",
    "\n",
    "\n"
   ]
  },
  {
   "cell_type": "code",
   "execution_count": null,
   "id": "789a9c51",
   "metadata": {},
   "outputs": [],
   "source": []
  }
 ],
 "metadata": {
  "kernelspec": {
   "display_name": "base",
   "language": "python",
   "name": "python3"
  },
  "language_info": {
   "codemirror_mode": {
    "name": "ipython",
    "version": 3
   },
   "file_extension": ".py",
   "mimetype": "text/x-python",
   "name": "python",
   "nbconvert_exporter": "python",
   "pygments_lexer": "ipython3",
   "version": "3.12.7"
  }
 },
 "nbformat": 4,
 "nbformat_minor": 5
}
