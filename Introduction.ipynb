{
 "cells": [
  {
   "cell_type": "code",
   "execution_count": 6,
   "id": "4c93a21a",
   "metadata": {},
   "outputs": [
    {
     "name": "stdout",
     "output_type": "stream",
     "text": [
      "[0]\n",
      "[0, 1]\n",
      "[0, 1, 4]\n",
      "[0, 1, 4, 9]\n",
      "[0, 1, 4, 9, 16]\n",
      "[0, 1, 4, 9, 16, 25]\n",
      "[0, 1, 4, 9, 16, 25, 36]\n",
      "[0, 1, 4, 9, 16, 25, 36, 49]\n",
      "[0, 1, 4, 9, 16, 25, 36, 49, 64]\n",
      "[0, 1, 4, 9, 16, 25, 36, 49, 64, 81]\n"
     ]
    }
   ],
   "source": [
    "# For Loop\n",
    "list = []\n",
    "for i in range (0,10):\n",
    "    list.append(i*i)\n",
    "    print(list)\n",
    "\n",
    "\n",
    "\n"
   ]
  },
  {
   "cell_type": "code",
   "execution_count": 7,
   "id": "b07adce3",
   "metadata": {},
   "outputs": [
    {
     "data": {
      "text/plain": [
       "[0, 1, 4, 9, 16, 25, 36, 49, 64, 81]"
      ]
     },
     "execution_count": 7,
     "metadata": {},
     "output_type": "execute_result"
    }
   ],
   "source": [
    "# List Comprehnsion\n",
    "# Variable = [expression for count in range(x1,x2)]\n",
    "\n",
    "square = [i*i for i in range(0,10)]\n",
    "square\n",
    "\n"
   ]
  },
  {
   "cell_type": "code",
   "execution_count": 8,
   "id": "18271b8b",
   "metadata": {},
   "outputs": [
    {
     "data": {
      "text/plain": [
       "[False, True, False, True, False, True, False, True, False, True]"
      ]
     },
     "execution_count": 8,
     "metadata": {},
     "output_type": "execute_result"
    }
   ],
   "source": [
    "odd = [i%2 == 1 for i in range (0,10)]\n",
    "odd\n"
   ]
  },
  {
   "cell_type": "code",
   "execution_count": 9,
   "id": "5b01bcf5",
   "metadata": {},
   "outputs": [
    {
     "data": {
      "text/plain": [
       "[0, 1, 4, 9, 16, 25, 36, 49, 64, 81]"
      ]
     },
     "execution_count": 9,
     "metadata": {},
     "output_type": "execute_result"
    }
   ],
   "source": [
    "square = [i**2 for i in range (0,10)]\n",
    "square\n"
   ]
  },
  {
   "cell_type": "code",
   "execution_count": 12,
   "id": "72f83f29",
   "metadata": {},
   "outputs": [
    {
     "data": {
      "text/plain": [
       "['ANIKET', 'PARAG', 'TANVI', 'AJAY', 'NIKHIL', 'MIHIR']"
      ]
     },
     "execution_count": 12,
     "metadata": {},
     "output_type": "execute_result"
    }
   ],
   "source": [
    "list = ['Aniket','Parag','Tanvi','Ajay','Nikhil','Mihir']\n",
    "new_list = [list.upper() for list in list ]\n",
    "new_list\n"
   ]
  },
  {
   "cell_type": "code",
   "execution_count": 13,
   "id": "f55b1f17",
   "metadata": {},
   "outputs": [
    {
     "data": {
      "text/plain": [
       "['aniket', 'parag', 'tanvi', 'ajay', 'nikhil', 'mihir']"
      ]
     },
     "execution_count": 13,
     "metadata": {},
     "output_type": "execute_result"
    }
   ],
   "source": [
    "new_list = [list.lower() for list in list]\n",
    "new_list\n"
   ]
  },
  {
   "cell_type": "code",
   "execution_count": 14,
   "id": "e6fb86e3",
   "metadata": {},
   "outputs": [
    {
     "data": {
      "text/plain": [
       "[6, 5, 5, 4, 6, 5]"
      ]
     },
     "execution_count": 14,
     "metadata": {},
     "output_type": "execute_result"
    }
   ],
   "source": [
    "new_list = [len(list)for list in list]\n",
    "new_list\n"
   ]
  },
  {
   "cell_type": "code",
   "execution_count": 15,
   "id": "53a8c076",
   "metadata": {},
   "outputs": [
    {
     "data": {
      "text/plain": [
       "31"
      ]
     },
     "execution_count": 15,
     "metadata": {},
     "output_type": "execute_result"
    }
   ],
   "source": [
    "new_list = (sum([len (list)for list in list]))\n",
    "new_list"
   ]
  },
  {
   "cell_type": "code",
   "execution_count": 16,
   "id": "3b386c06",
   "metadata": {},
   "outputs": [
    {
     "data": {
      "text/plain": [
       "6"
      ]
     },
     "execution_count": 16,
     "metadata": {},
     "output_type": "execute_result"
    }
   ],
   "source": [
    "new_list = (max([len (list)for list in list]))\n",
    "new_list"
   ]
  },
  {
   "cell_type": "code",
   "execution_count": 17,
   "id": "c84f33fb",
   "metadata": {},
   "outputs": [
    {
     "data": {
      "text/plain": [
       "4"
      ]
     },
     "execution_count": 17,
     "metadata": {},
     "output_type": "execute_result"
    }
   ],
   "source": [
    "new_list = (min([len (list)for list in list]))\n",
    "new_list"
   ]
  },
  {
   "cell_type": "code",
   "execution_count": 20,
   "id": "49a4e7ac",
   "metadata": {},
   "outputs": [
    {
     "data": {
      "text/plain": [
       "20"
      ]
     },
     "execution_count": 20,
     "metadata": {},
     "output_type": "execute_result"
    }
   ],
   "source": [
    "# logic: 0 2 4 6 8 : sum : 20\n",
    "n = sum([x for x in range(0,10)if x % 2 == 0])\n",
    "n \n",
    "\n",
    "\n",
    "\n"
   ]
  },
  {
   "cell_type": "code",
   "execution_count": 21,
   "id": "8d33a5b3",
   "metadata": {},
   "outputs": [
    {
     "data": {
      "text/plain": [
       "25"
      ]
     },
     "execution_count": 21,
     "metadata": {},
     "output_type": "execute_result"
    }
   ],
   "source": [
    "# logic : 1 3 5 7 9 : sum : 25\n",
    "n = sum([x for x in range(0,10)if x % 2 != 0])\n",
    "n"
   ]
  },
  {
   "cell_type": "code",
   "execution_count": 22,
   "id": "8f3ed16b",
   "metadata": {},
   "outputs": [
    {
     "data": {
      "text/plain": [
       "120"
      ]
     },
     "execution_count": 22,
     "metadata": {},
     "output_type": "execute_result"
    }
   ],
   "source": [
    "# 5! = 5*4*3*2*1 ---> 120\n",
    "import math\n",
    "math.factorial(5)\n"
   ]
  },
  {
   "cell_type": "code",
   "execution_count": 24,
   "id": "7def1abb",
   "metadata": {},
   "outputs": [
    {
     "name": "stdout",
     "output_type": "stream",
     "text": [
      "2.23606797749979\n",
      "2.23606797749979\n"
     ]
    }
   ],
   "source": [
    "# Square Root \n",
    "print(5**0.5)\n",
    "print(math.sqrt(5))\n"
   ]
  },
  {
   "cell_type": "code",
   "execution_count": 23,
   "id": "47e589f2",
   "metadata": {},
   "outputs": [
    {
     "data": {
      "text/plain": [
       "4.0"
      ]
     },
     "execution_count": 23,
     "metadata": {},
     "output_type": "execute_result"
    }
   ],
   "source": [
    "math.pow(2,2)\n"
   ]
  },
  {
   "cell_type": "code",
   "execution_count": 25,
   "id": "5da4a232",
   "metadata": {},
   "outputs": [
    {
     "name": "stdout",
     "output_type": "stream",
     "text": [
      "0.6989700043360189\n"
     ]
    }
   ],
   "source": [
    "print (math.log10(5))"
   ]
  },
  {
   "cell_type": "code",
   "execution_count": null,
   "id": "04998ace",
   "metadata": {},
   "outputs": [],
   "source": [
    "# import math\n",
    "# import os\n",
    "# import datetime\n",
    "\n"
   ]
  },
  {
   "cell_type": "code",
   "execution_count": null,
   "id": "d0e55ac2",
   "metadata": {},
   "outputs": [
    {
     "name": "stdout",
     "output_type": "stream",
     "text": [
      "Hello World\n"
     ]
    }
   ],
   "source": [
    "# Define Function\n",
    "def sum():  # sum() function defination\n",
    "    print('Hello World')\n",
    "ans = sum() # sum () function calling and storing in variable ans"
   ]
  },
  {
   "cell_type": "code",
   "execution_count": 10,
   "id": "769f9ebe",
   "metadata": {},
   "outputs": [
    {
     "name": "stdout",
     "output_type": "stream",
     "text": [
      "The addition of two numbers 100and 200 is  300\n"
     ]
    }
   ],
   "source": [
    "def sum(num1,num2):\n",
    "    num3 = num1 + num2\n",
    "    print (f'The addition of two numbers {num1}and {num2} is ',num3)\n",
    "    return num3\n",
    "\n",
    "ans = sum(100,200)\n",
    "# we use fuction for reuseablity\n"
   ]
  },
  {
   "cell_type": "code",
   "execution_count": null,
   "id": "ec801906",
   "metadata": {},
   "outputs": [],
   "source": [
    "num1 = float(input('Enter first number:'))\n",
    "num2 = float(input('Enter the second number:'))\n",
    "\n",
    "def sum(num1,num2):\n",
    "    num3 = num1 + num2\n",
    "    print(f'The addition of two numbers {num1}and {num2} is ',num3)\n",
    "    "
   ]
  },
  {
   "cell_type": "code",
   "execution_count": 13,
   "id": "78c75d4b",
   "metadata": {},
   "outputs": [
    {
     "name": "stdout",
     "output_type": "stream",
     "text": [
      "The addition of two numbers 10.0and 20.0 is  30.0\n",
      "The mulitplication of two numbers 10.0and 20.0 is  200.0\n"
     ]
    }
   ],
   "source": [
    "def mul(num1,num2):\n",
    "    num3 = num1 * num2\n",
    "    print(f'The mulitplication of two numbers {num1}and {num2} is ',num3)\n",
    "    return num3\n",
    "addition = sum(num1,num2)\n",
    "multiplication = mul(num1,num2)\n",
    "\n"
   ]
  },
  {
   "cell_type": "code",
   "execution_count": 14,
   "id": "33f10777",
   "metadata": {},
   "outputs": [
    {
     "data": {
      "text/plain": [
       "30.0"
      ]
     },
     "execution_count": 14,
     "metadata": {},
     "output_type": "execute_result"
    }
   ],
   "source": [
    "addition "
   ]
  },
  {
   "cell_type": "code",
   "execution_count": 15,
   "id": "7c2d3ea4",
   "metadata": {},
   "outputs": [
    {
     "data": {
      "text/plain": [
       "200.0"
      ]
     },
     "execution_count": 15,
     "metadata": {},
     "output_type": "execute_result"
    }
   ],
   "source": [
    "multiplication"
   ]
  },
  {
   "cell_type": "code",
   "execution_count": 20,
   "id": "72164042",
   "metadata": {},
   "outputs": [
    {
     "name": "stdout",
     "output_type": "stream",
     "text": [
      "The give string is Palindrom\n"
     ]
    }
   ],
   "source": [
    "text = input('Enter the String')\n",
    "text1 = text[::-1]\n",
    "\n",
    "def  pal(text):\n",
    "    if text == text1:\n",
    "        print ('The give string is Palindrom')\n",
    "    else:\n",
    "        print('The give string is  not a Palindrom')\n",
    "    \n",
    "\n",
    "pal(text)\n",
    "\n"
   ]
  },
  {
   "cell_type": "code",
   "execution_count": 1,
   "id": "789a9c51",
   "metadata": {},
   "outputs": [
    {
     "name": "stdout",
     "output_type": "stream",
     "text": [
      "User Current Balance is 2000.0\n"
     ]
    }
   ],
   "source": [
    "'''\n",
    "balance = 10000\n",
    "withdraw = Ask User\n",
    "Theshold balance = 2000\n",
    "\n",
    " create function def transation \n",
    "\n",
    "'''\n",
    "balance =10000\n",
    "threshold = 2000\n",
    "withdraw = float(input('Ask User: '))\n",
    "\n",
    "if withdraw >= balance:\n",
    "    print('Insufficient Balance')\n",
    "else:\n",
    "    new_balance = balance - withdraw\n",
    "    if new_balance >= threshold:\n",
    "        print('User Current Balance is', new_balance)\n",
    "    else:\n",
    "        print('def transation')\n",
    "        "
   ]
  },
  {
   "cell_type": "code",
   "execution_count": 6,
   "id": "fb328561",
   "metadata": {},
   "outputs": [],
   "source": [
    "'''\n",
    "CGPA >=  8 : Bright \n",
    "CGPA betwwen 6.9 to 7.9 : Moderate Student \n",
    "CGPA < 6.8 : Week Student \n",
    "''' \n",
    "GPA = float(input('Enter CGPA: '))\n",
    "\n",
    "def compute(CGPA):\n",
    "    if CGPA >= 8:\n",
    "        print(\"Bright Student\") \n",
    "    elif 6.9 <= CGPA <= 7.9:\n",
    "        print(\"Moderate Student\")\n",
    "    else:\n",
    "        print(\"Weak Student\")\n",
    "        compute (CGPA) \n"
   ]
  },
  {
   "cell_type": "code",
   "execution_count": 3,
   "id": "322806a3",
   "metadata": {},
   "outputs": [
    {
     "name": "stdout",
     "output_type": "stream",
     "text": [
      "The given string is palindrom.\n"
     ]
    }
   ],
   "source": [
    "text = input('Enter the Text:')\n",
    "\n",
    "text = text[::-1]\n",
    "\n",
    "def palindrom(text):\n",
    "    text1 = text[::-1]\n",
    "    if text == text1:\n",
    "        print('The given string is palindrom.')\n",
    "    else:\n",
    "        print('The given string is not a palindrom')\n",
    "\n",
    "palindrom(text)  #calling a function\n",
    "                 # Palindrom = Reading the word from right or left and left to right.     "
   ]
  },
  {
   "cell_type": "code",
   "execution_count": 9,
   "id": "d1a8b972",
   "metadata": {},
   "outputs": [
    {
     "data": {
      "text/plain": [
       "120"
      ]
     },
     "execution_count": 9,
     "metadata": {},
     "output_type": "execute_result"
    }
   ],
   "source": [
    "# Recurssive Function\n",
    "# 5! = 5*4*3*2*1 = 120\n",
    "def factorial (n):\n",
    "    if n == 0 or n == 1:\n",
    "        return 1 # base case\n",
    "    else:\n",
    "        return n * factorial(n-1)\n",
    "    \n",
    "factorial(5)\n"
   ]
  },
  {
   "cell_type": "code",
   "execution_count": 18,
   "id": "8eaf5866",
   "metadata": {},
   "outputs": [
    {
     "data": {
      "text/plain": [
       "12345"
      ]
     },
     "execution_count": 18,
     "metadata": {},
     "output_type": "execute_result"
    }
   ],
   "source": [
    "# OOP : OBJECT ORIENTED PROGRAMMING \n",
    "class ClassName:\n",
    "    i = 12345\n",
    "\n",
    "\n",
    "x = ClassName ()\n",
    "x.i\n",
    "\n"
   ]
  },
  {
   "cell_type": "code",
   "execution_count": 21,
   "id": "ada727c2",
   "metadata": {},
   "outputs": [
    {
     "name": "stdout",
     "output_type": "stream",
     "text": [
      "10 + 10 j\n"
     ]
    }
   ],
   "source": [
    "class Complex:\n",
    "    def __init__(self,real,img): # Constructor Method\n",
    "        self.r = real # Attribute\n",
    "        self. i = img # Attribute\n",
    "x = Complex(10,10)  # x is an object of class complex\n",
    "x.r  # Calling Attribute using Dot Operator with the help of object x\n",
    "x.i # # Calling Attribute using Dot Operator with the help of object x\n",
    "\n",
    "print(x.r,'+',x.i,'j')\n",
    "\n"
   ]
  },
  {
   "cell_type": "code",
   "execution_count": 32,
   "id": "ff00b2cd",
   "metadata": {},
   "outputs": [
    {
     "data": {
      "text/plain": [
       "300"
      ]
     },
     "execution_count": 32,
     "metadata": {},
     "output_type": "execute_result"
    }
   ],
   "source": [
    "class addition :\n",
    "    def __init__(self):\n",
    "        self. num1 = 100\n",
    "        self . num2 = 200\n",
    "    def  sum(self):\n",
    "        num3 = self.num1 + self.num2\n",
    "        return num3\n",
    "a = addition()\n",
    "a.sum()\n"
   ]
  },
  {
   "cell_type": "code",
   "execution_count": 35,
   "id": "5ee2b708",
   "metadata": {},
   "outputs": [
    {
     "ename": "NameError",
     "evalue": "name 'withdraw' is not defined",
     "output_type": "error",
     "traceback": [
      "\u001b[1;31m---------------------------------------------------------------------------\u001b[0m",
      "\u001b[1;31mNameError\u001b[0m                                 Traceback (most recent call last)",
      "Cell \u001b[1;32mIn[35], line 9\u001b[0m\n\u001b[0;32m      7\u001b[0m     \u001b[38;5;28;01mdef\u001b[39;00m \u001b[38;5;21m__init__\u001b[39m(\u001b[38;5;28mself\u001b[39m): \n\u001b[0;32m      8\u001b[0m         \u001b[38;5;28mself\u001b[39m\u001b[38;5;241m.\u001b[39m num1 \u001b[38;5;241m=\u001b[39m \u001b[38;5;28mfloat\u001b[39m(\u001b[38;5;28minput\u001b[39m(\u001b[38;5;124m'\u001b[39m\u001b[38;5;124mEnter the withdraw amount :\u001b[39m\u001b[38;5;124m'\u001b[39m))\n\u001b[1;32m----> 9\u001b[0m \u001b[38;5;28;01mif\u001b[39;00m withdraw \u001b[38;5;241m>\u001b[39m\u001b[38;5;241m=\u001b[39m balance:\n\u001b[0;32m     10\u001b[0m     \u001b[38;5;28mprint\u001b[39m(\u001b[38;5;124m'\u001b[39m\u001b[38;5;124mInsufficient Balance\u001b[39m\u001b[38;5;124m'\u001b[39m)\n\u001b[0;32m     11\u001b[0m \u001b[38;5;28;01melse\u001b[39;00m:\n",
      "\u001b[1;31mNameError\u001b[0m: name 'withdraw' is not defined"
     ]
    }
   ],
   "source": [
    "'''\n",
    "balance = 10000\n",
    "withdraw = Ask User\n",
    "Theshold balance = 2000\n",
    "''' \n",
    "class Bank :\n",
    "    def __init__(self): \n",
    "        self. num1 = float(input('Enter the withdraw amount :'))\n",
    "if withdraw >= balance:\n",
    "    print('Insufficient Balance')\n",
    "else:\n",
    "    new_balance = balance - withdraw\n",
    "    if new_balance >= threshold:\n",
    "        print('User Current Balance is', new_balance)\n",
    "    else:\n",
    "        print('def transation')\n",
    "        \n",
    "    a = Bank ()\n",
    "a.sum()\n",
    "    \n",
    "    "
   ]
  },
  {
   "cell_type": "code",
   "execution_count": 3,
   "id": "a1f85937",
   "metadata": {},
   "outputs": [],
   "source": [
    "# Parent Class\n",
    "class Car: \n",
    "    def __init__(brand,model):\n",
    "        brand = brand\n",
    "        model = model\n",
    "\n",
    "    def start(self):\n",
    "        print(f\" {self.brand} {self.model}is starting...\")\n",
    "\n",
    "    def stop(self):\n",
    "        print(f\" {self.brand} {self.model}is stopping....\")\n"
   ]
  },
  {
   "cell_type": "code",
   "execution_count": 14,
   "id": "8a04b560",
   "metadata": {},
   "outputs": [
    {
     "name": "stdout",
     "output_type": "stream",
     "text": [
      " tesla Model Sis starting...\n",
      " tesla Model Sis charging  with 10000kWh battery.\n",
      " tesla Model Sis stopping....\n"
     ]
    }
   ],
   "source": [
    "# Child Class \n",
    "class ElecltricCar (Car):\n",
    "    def __init__(self, brand, model,battery_capacity):\n",
    "        super().__init__(brand,model)    # Inherit brand and model \n",
    "        .battery_capacity = battery_capacity\n",
    "    def charge(self):\n",
    "        print(f\" {self.brand} {self.model}is charging  with {self.battery_capacity}kWh battery.\")\n",
    "        \n",
    "# Create an object of ElectricCar\n",
    "tesla = ElecltricCar(\"tesla\",\"Model S\",10000)\n",
    "tesla.start()\n",
    "tesla.charge()\n",
    "tesla.stop()\n"
   ]
  },
  {
   "cell_type": "code",
   "execution_count": null,
   "id": "7fac8693",
   "metadata": {},
   "outputs": [
    {
     "name": "stdout",
     "output_type": "stream",
     "text": [
      " Hodnda Model Sis starting...\n"
     ]
    },
    {
     "ename": "TypeError",
     "evalue": "'int' object is not callable",
     "output_type": "error",
     "traceback": [
      "\u001b[1;31m---------------------------------------------------------------------------\u001b[0m",
      "\u001b[1;31mTypeError\u001b[0m                                 Traceback (most recent call last)",
      "Cell \u001b[1;32mIn[18], line 11\u001b[0m\n\u001b[0;32m      9\u001b[0m Hodnda \u001b[38;5;241m=\u001b[39m PetrolCar(\u001b[38;5;124m\"\u001b[39m\u001b[38;5;124mHodnda\u001b[39m\u001b[38;5;124m\"\u001b[39m,\u001b[38;5;124m\"\u001b[39m\u001b[38;5;124mModel S\u001b[39m\u001b[38;5;124m\"\u001b[39m,\u001b[38;5;241m20\u001b[39m) \n\u001b[0;32m     10\u001b[0m Hodnda\u001b[38;5;241m.\u001b[39mstart()\n\u001b[1;32m---> 11\u001b[0m Hodnda\u001b[38;5;241m.\u001b[39mMilage()\n",
      "\u001b[1;31mTypeError\u001b[0m: 'int' object is not callable"
     ]
    }
   ],
   "source": [
    "class PetrolCar (Car):\n",
    "    def __init__(self, brand, model,Milage):\n",
    "        super().__init__(brand,model)    # Inherit brand and model \n",
    "        self.Milage = Milage\n",
    "    def charge(self):\n",
    "        print(f\" {self.brand} {self.model}is charging  with {self.Milage}kWh .\")\n",
    "        \n",
    "# Create an object of PetrolCar\n",
    "Hodnda = PetrolCar(\"Hodnda\",\"Model S\",20) \n",
    "Hodnda.start()\n",
    "Hodnda.Milage()\n",
    "Hodnda.stop()"
   ]
  },
  {
   "cell_type": "code",
   "execution_count": 9,
   "id": "3a05568b",
   "metadata": {},
   "outputs": [],
   "source": [
    "#Parent Class\n",
    "class Car :\n",
    "    def start_engine(self):\n",
    "     print(\"Starting Engine...\")\n",
    "class ElectricCar(Car):\n",
    "    def start_engine(self):\n",
    "        print(\"Starting slient electric engine...\")\n",
    "# Child Class\n",
    "class PetrolCar(Car):\n",
    "    def start_engine(self):\n",
    "        print(\"Starting petrol engine with sound...\")"
   ]
  },
  {
   "cell_type": "code",
   "execution_count": 19,
   "id": "b2253959",
   "metadata": {},
   "outputs": [],
   "source": [
    "object1 = Car() # Object is Defined as Parent Class \n",
    "object2 = ElectricCar() # Object is Defined as Child Class\n",
    "object3 = PetrolCar() # Object is Defined as Child Class"
   ]
  },
  {
   "cell_type": "code",
   "execution_count": 21,
   "id": "3441f8f0",
   "metadata": {},
   "outputs": [
    {
     "name": "stdout",
     "output_type": "stream",
     "text": [
      "Starting Engine...\n"
     ]
    }
   ],
   "source": [
    "object1.start_engine()"
   ]
  },
  {
   "cell_type": "code",
   "execution_count": 23,
   "id": "b0c51954",
   "metadata": {},
   "outputs": [
    {
     "name": "stdout",
     "output_type": "stream",
     "text": [
      "Starting slient electric engine...\n"
     ]
    }
   ],
   "source": [
    "object2.start_engine()"
   ]
  },
  {
   "cell_type": "code",
   "execution_count": 25,
   "id": "e3501b20-6664-4034-b557-5a849c399514",
   "metadata": {},
   "outputs": [
    {
     "name": "stdout",
     "output_type": "stream",
     "text": [
      "Starting petrol engine with sound...\n"
     ]
    }
   ],
   "source": [
    "object3.start_engine()"
   ]
  },
  {
   "cell_type": "code",
   "execution_count": 35,
   "id": "0373ca37-8204-49f9-a1c1-e1b1e72bdddb",
   "metadata": {},
   "outputs": [
    {
     "ename": "IndentationError",
     "evalue": "unindent does not match any outer indentation level (<string>, line 7)",
     "output_type": "error",
     "traceback": [
      "\u001b[1;36m  File \u001b[1;32m<string>:7\u001b[1;36m\u001b[0m\n\u001b[1;33m    def detials(self)\u001b[0m\n\u001b[1;37m                     ^\u001b[0m\n\u001b[1;31mIndentationError\u001b[0m\u001b[1;31m:\u001b[0m unindent does not match any outer indentation level\n"
     ]
    }
   ],
   "source": [
    " class Bank:\n",
    "     def __int__(self)\n",
    "         self.firstname = firstname\n",
    "         self.lastname = lastname\n",
    "         self.age = age\n",
    "         self.gender = gender \n",
    "    def detials(self)\n",
    "        print(f\"input(enter the firstname and lastname...\")\n",
    "        print(f\"input(enter the age....\")\n",
    "        print(f\"input(enter the gender...\")\n",
    "    \n",
    "\n",
    "\n",
    "     "
   ]
  },
  {
   "cell_type": "code",
   "execution_count": null,
   "id": "de4eb710-3312-4610-97fb-cb6c30199c6d",
   "metadata": {},
   "outputs": [],
   "source": [
    "# Defining Parent Class : Bank Account\n",
    "class Bank_Account:\n",
    "    # Definig special method : Constructor Function\n",
    "    def __init__(self): \n",
    "        # Defining attributes inside  Constructor function \n",
    "        self.first_name = input('Enter the first_name')\n",
    "        self.last_name = input('Enter the last_name')\n",
    "        self.age = int(input('Enter the age'))\n",
    "        self.sex = input('Enter the sex')\n",
    "        self.mobile_number = int(input('mobile_number'))\n",
    "# Defining Method : Details\n",
    "    def details(self):\n",
    "        print(f'The first name is {self.first_name}')\n",
    "        print(f'The last name is {self.last_name}')\n",
    "        print(f'The age is {self.age}')\n",
    "        print(f'The sex is {self.sex} ')\n",
    "        print(f'The mobile number is {self.mobile_number}')\n",
    "   # Defing Child Class :Saving Account \n",
    "class Saving_Acc(Bank_Account):\n",
    "    # Defining Method :Interest Rate\n",
    "    def intrest_rate(self):\n",
    "        return 3\n",
    "# Defining Child Class : Current Account \n",
    "class Current_Acc(Bank_Account):\n",
    "    def intrest_rate(self):\n",
    "        return 0\n",
    "\n",
    "class Pensioner_acc(Bank_Account):\n",
    "    def intrest_rate(self):\n",
    "        return 6\n",
    "      \n",
    "class NRI_Acc(Bank_Account):\n",
    "    def intrest_rate(self):\n",
    "        return 5 \n",
    "# Defining  Object \n",
    "Mihir,Tanvi  = Saving_Acc()\n",
    " Hemangi , disha = Current_Acc()\n",
    " Parag, Nikihil = Pensioner_acc()\n",
    " Ajay , Aniket = NRI_Acc()"
   ]
  },
  {
   "cell_type": "code",
   "execution_count": 1,
   "id": "d40106c7-8a14-48bd-be95-f43074602c89",
   "metadata": {},
   "outputs": [
    {
     "ename": "NameError",
     "evalue": "name 'Mihir' is not defined",
     "output_type": "error",
     "traceback": [
      "\u001b[1;31m---------------------------------------------------------------------------\u001b[0m",
      "\u001b[1;31mNameError\u001b[0m                                 Traceback (most recent call last)",
      "Cell \u001b[1;32mIn[1], line 1\u001b[0m\n\u001b[1;32m----> 1\u001b[0m Mihir\u001b[38;5;241m.\u001b[39minterest_rate()\n",
      "\u001b[1;31mNameError\u001b[0m: name 'Mihir' is not defined"
     ]
    }
   ],
   "source": [
    "Mihir.interest_rate()\n"
   ]
  },
  {
   "cell_type": "code",
   "execution_count": null,
   "id": "84e39708-3c36-41fc-b48e-41ceb934ce1c",
   "metadata": {},
   "outputs": [],
   "source": []
  },
  {
   "cell_type": "code",
   "execution_count": null,
   "id": "6b251a15-defc-40ca-9e27-91137d3e9286",
   "metadata": {},
   "outputs": [],
   "source": []
  },
  {
   "cell_type": "code",
   "execution_count": null,
   "id": "d6b136ca-dddf-4c6c-b7b1-0e4999d58585",
   "metadata": {},
   "outputs": [],
   "source": []
  },
  {
   "cell_type": "code",
   "execution_count": null,
   "id": "7f3b6bcf-a7dc-4e3f-b32a-9382322d1a68",
   "metadata": {},
   "outputs": [],
   "source": []
  },
  {
   "cell_type": "code",
   "execution_count": 29,
   "id": "be5910f2-1c7c-4e58-a59f-dd1ba51866aa",
   "metadata": {},
   "outputs": [
    {
     "name": "stdout",
     "output_type": "stream",
     "text": [
      "Choose Account Type:\n",
      "1. Current Account\n",
      "2. Savings Account\n",
      "3. Pension Account\n",
      "4. NRI Account\n"
     ]
    },
    {
     "name": "stdout",
     "output_type": "stream",
     "text": [
      "Enter your choice (1-4):  tanvi\n",
      "Enter account holder name:  tanvi\n",
      "Enter initial balance:  10000\n"
     ]
    },
    {
     "name": "stdout",
     "output_type": "stream",
     "text": [
      "Invalid choice. Defaulting to general Bank account.\n"
     ]
    },
    {
     "ename": "TypeError",
     "evalue": "Bank() takes no arguments",
     "output_type": "error",
     "traceback": [
      "\u001b[1;31m---------------------------------------------------------------------------\u001b[0m",
      "\u001b[1;31mTypeError\u001b[0m                                 Traceback (most recent call last)",
      "Cell \u001b[1;32mIn[29], line 61\u001b[0m\n\u001b[0;32m     58\u001b[0m         \u001b[38;5;28;01mreturn\u001b[39;00m Bank(name, balance)\n\u001b[0;32m     60\u001b[0m \u001b[38;5;66;03m# Create and show account\u001b[39;00m\n\u001b[1;32m---> 61\u001b[0m account \u001b[38;5;241m=\u001b[39m create_account()\n\u001b[0;32m     62\u001b[0m show_account_info(account)\n",
      "Cell \u001b[1;32mIn[29], line 58\u001b[0m, in \u001b[0;36mcreate_account\u001b[1;34m()\u001b[0m\n\u001b[0;32m     56\u001b[0m \u001b[38;5;28;01melse\u001b[39;00m:\n\u001b[0;32m     57\u001b[0m     \u001b[38;5;28mprint\u001b[39m(\u001b[38;5;124m\"\u001b[39m\u001b[38;5;124mInvalid choice. Defaulting to general Bank account.\u001b[39m\u001b[38;5;124m\"\u001b[39m)\n\u001b[1;32m---> 58\u001b[0m     \u001b[38;5;28;01mreturn\u001b[39;00m Bank(name, balance)\n",
      "\u001b[1;31mTypeError\u001b[0m: Bank() takes no arguments"
     ]
    }
   ],
   "source": [
    "# Base class\n",
    "class Bank:\n",
    "    def _init_(self, account_holder, balance):\n",
    "        self.account_holder = account_holder\n",
    "        self.balance = balance\n",
    "\n",
    "    def account_details(self):\n",
    "        print(f\"\\nAccount Holder: {self.account_holder}\")\n",
    "        print(f\"Balance: ₹{self.balance}\")\n",
    "\n",
    "    def rate_of_interest(self):\n",
    "        print(\"General Bank Account: No specific interest rate.\")\n",
    "\n",
    "# Child classes\n",
    "class CurrentAccount(Bank):\n",
    "    def rate_of_interest(self):\n",
    "        print(\"Current Account Interest Rate: 0%\")\n",
    "\n",
    "class SavingsAccount(Bank):\n",
    "    def rate_of_interest(self):\n",
    "        print(\"Savings Account Interest Rate: 3.5%\")\n",
    "\n",
    "class PensionAccount(Bank):\n",
    "    def rate_of_interest(self):\n",
    "        print(\"Pension Account Interest Rate: 5%\")\n",
    "\n",
    "class NRIAccount(Bank):\n",
    "    def rate_of_interest(self):\n",
    "        print(\"NRI Account Interest Rate: 4.5%\")\n",
    "\n",
    "# Function to show details\n",
    "def show_account_info(account):\n",
    "    account.account_details()\n",
    "    account.rate_of_interest()\n",
    "\n",
    "# Function to create account based on user input\n",
    "def create_account():\n",
    "    print(\"Choose Account Type:\")\n",
    "    print(\"1. Current Account\")\n",
    "    print(\"2. Savings Account\")\n",
    "    print(\"3. Pension Account\")\n",
    "    print(\"4. NRI Account\")\n",
    "    \n",
    "    choice = input(\"Enter your choice (1-4): \")\n",
    "    name = input(\"Enter account holder name: \")\n",
    "    balance = float(input(\"Enter initial balance: \"))\n",
    "\n",
    "    if choice == '1':\n",
    "        return CurrentAccount(name, balance)\n",
    "    elif choice == '2':\n",
    "        return SavingsAccount(name, balance)\n",
    "    elif choice == '3':\n",
    "        return PensionAccount(name, balance)\n",
    "    elif choice == '4':\n",
    "        return NRIAccount(name, balance)\n",
    "    else:\n",
    "        print(\"Invalid choice. Defaulting to general Bank account.\")\n",
    "        return Bank(name, balance)\n",
    "\n",
    "# Create and show account\n",
    "account = create_account()\n",
    "show_account_info(account)"
   ]
  },
  {
   "cell_type": "code",
   "execution_count": null,
   "id": "4e5db784-c64e-456c-9310-b6579f68e333",
   "metadata": {},
   "outputs": [],
   "source": [
    "# Defeinig Parent Class : Transaction\n",
    "class Transaction:\n",
    "# Defining Special method : Constructor \n",
    "    def __init__(self):\n",
    "        self.amount_debited = float(input(\"Enter the amount_debited...\"))\n",
    "        self. amount_credited = float(input(\"Enter the amount_credited...\"))\n",
    "        self.amount_balance = 1000\n",
    "        self.amount_no = int(input(\"Enter the account no .\"))\n",
    "\n",
    "\n",
    "# Defining method Acc_Details\n",
    "def account_details (self):\n",
    "    print(f\"enter the amount_no {self.account_no}\")\n",
    "    print(f\"balance amount {self.amount_balance}\" )\n",
    "    print (f\"Enter \")\n",
    "\n",
    "\n",
    "    \n",
    "    "
   ]
  },
  {
   "cell_type": "code",
   "execution_count": 4,
   "id": "b47b7fb0-0e93-4dcc-a9d1-aceb28efe15d",
   "metadata": {},
   "outputs": [
    {
     "name": "stdout",
     "output_type": "stream",
     "text": [
      "<class 'list'>\n"
     ]
    }
   ],
   "source": [
    "# 1D Array\n",
    "arr = [1,2,3,4,5,]\n",
    "print(type(arr))"
   ]
  },
  {
   "cell_type": "code",
   "execution_count": 5,
   "id": "4e7a6fd9-ee5a-4804-bb33-3be59d6fae42",
   "metadata": {},
   "outputs": [],
   "source": [
    "arr.append(6)"
   ]
  },
  {
   "cell_type": "code",
   "execution_count": 6,
   "id": "8c8b1fe0-2e8f-4fd3-a964-2df258950734",
   "metadata": {},
   "outputs": [
    {
     "data": {
      "text/plain": [
       "[1, 2, 3, 4, 5, 6]"
      ]
     },
     "execution_count": 6,
     "metadata": {},
     "output_type": "execute_result"
    }
   ],
   "source": [
    "arr"
   ]
  },
  {
   "cell_type": "code",
   "execution_count": 14,
   "id": "613fdc77-fd98-45d2-b426-85df139a341d",
   "metadata": {},
   "outputs": [
    {
     "name": "stdout",
     "output_type": "stream",
     "text": [
      "1\n",
      "(6,)\n",
      "[1 2 3 4 5 6]\n"
     ]
    }
   ],
   "source": [
    "#Numpy Array Formation\n",
    "import numpy as np \n",
    "arr = np.array(arr)\n",
    "print(arr.ndim) # n Dimensions\n",
    "print(arr.shape)   # Dataset Shape : rows , Columns\n",
    "print(arr)           #print : Array\n"
   ]
  },
  {
   "cell_type": "code",
   "execution_count": 15,
   "id": "983e3bad-081e-407e-98a8-a5398b816d18",
   "metadata": {},
   "outputs": [
    {
     "name": "stdout",
     "output_type": "stream",
     "text": [
      "2\n",
      "(2, 3)\n",
      "[[1 2 3]\n",
      " [4 5 6]]\n"
     ]
    }
   ],
   "source": [
    "# 2D array\n",
    "arr1 = [[1,2,3],[4,5,6]]\n",
    "arr1 = np.array(arr1)\n",
    "print(arr1.ndim)\n",
    "print(arr1.shape)\n",
    "print(arr1)\n"
   ]
  },
  {
   "cell_type": "markdown",
   "id": "f9f5c130",
   "metadata": {},
   "source": []
  },
  {
   "cell_type": "code",
   "execution_count": 16,
   "id": "22e4ed9e-f55c-4eb9-8a9a-0d4ddec625c5",
   "metadata": {},
   "outputs": [
    {
     "name": "stdout",
     "output_type": "stream",
     "text": [
      "3\n",
      "(1, 2, 3)\n",
      "[[[1 2 3]\n",
      "  [4 5 6]]]\n"
     ]
    }
   ],
   "source": [
    "# 3D Array\n",
    "arr2 = [[[1,2,3],[4,5,6]]]\n",
    "arr2 = np.array(arr2)\n",
    "print(arr2.ndim)\n",
    "print(arr2.shape)\n",
    "print(arr2)\n"
   ]
  },
  {
   "cell_type": "code",
   "execution_count": 18,
   "id": "23a6f5d5-5ac2-4088-b40d-05d3eb37cb5a",
   "metadata": {},
   "outputs": [
    {
     "name": "stdout",
     "output_type": "stream",
     "text": [
      "[[11 22 33]\n",
      " [44 55 66]\n",
      " [77 88 99]]\n"
     ]
    }
   ],
   "source": [
    "a = np.array([[1,2,3,],[4,5,6],[7,8,9]])\n",
    "b = np.array([[10,20,30,],[40,50,60],[70,80,90]])\n",
    "c = a+b\n",
    "print(c)"
   ]
  },
  {
   "cell_type": "code",
   "execution_count": 19,
   "id": "466832da-d35b-4733-8cf1-20b055a71401",
   "metadata": {},
   "outputs": [
    {
     "name": "stdout",
     "output_type": "stream",
     "text": [
      "[[ 10  40  90]\n",
      " [160 250 360]\n",
      " [490 640 810]]\n"
     ]
    }
   ],
   "source": [
    "a = np.array([[1,2,3,],[4,5,6],[7,8,9]])\n",
    "b = np.array([[10,20,30,],[40,50,60],[70,80,90]])\n",
    "c = a*b\n",
    "print(c)"
   ]
  },
  {
   "cell_type": "code",
   "execution_count": 20,
   "id": "e6d39940-d0f5-4a9d-8d29-c5bb91fb4735",
   "metadata": {},
   "outputs": [
    {
     "name": "stdout",
     "output_type": "stream",
     "text": [
      "[[0.1 0.1 0.1]\n",
      " [0.1 0.1 0.1]\n",
      " [0.1 0.1 0.1]]\n"
     ]
    }
   ],
   "source": [
    "a = np.array([[1,2,3,],[4,5,6],[7,8,9]])\n",
    "b = np.array([[10,20,30,],[40,50,60],[70,80,90]])\n",
    "c = a/b\n",
    "print(c)"
   ]
  },
  {
   "cell_type": "code",
   "execution_count": 21,
   "id": "9aaceb2b-d8ca-475a-87e5-cd6523574f9c",
   "metadata": {},
   "outputs": [
    {
     "name": "stdout",
     "output_type": "stream",
     "text": [
      "[[ -9 -18 -27]\n",
      " [-36 -45 -54]\n",
      " [-63 -72 -81]]\n"
     ]
    }
   ],
   "source": [
    "a = np.array([[1,2,3,],[4,5,6],[7,8,9]])\n",
    "b = np.array([[10,20,30,],[40,50,60],[70,80,90]])\n",
    "c = a-b\n",
    "print(c)"
   ]
  },
  {
   "cell_type": "code",
   "execution_count": 26,
   "id": "37bb0dc1-b2f4-46fd-83ff-75e86b657bcb",
   "metadata": {},
   "outputs": [
    {
     "name": "stdout",
     "output_type": "stream",
     "text": [
      "[[ 2.  3.  4.]\n",
      " [ 5.  6.  7.]\n",
      " [ 8.  9. 10.]]\n"
     ]
    }
   ],
   "source": [
    "# Diagonal Matrix \n",
    "a = np.array([[1,2,3,],[4,5,6],[7,8,9]])\n",
    "b = np.array([[10,20,30,],[40,50,60],[70,80,90]])\n",
    "c = np.eye(3)\n",
    "d = np.zeros(3)\n",
    "e = np.ones(3)\n",
    "z = a + e\n",
    "print(z)"
   ]
  },
  {
   "cell_type": "code",
   "execution_count": 23,
   "id": "ac0eb82f",
   "metadata": {},
   "outputs": [
    {
     "data": {
      "text/plain": [
       "array([[1., 0., 0.],\n",
       "       [0., 1., 0.],\n",
       "       [0., 0., 1.]])"
      ]
     },
     "execution_count": 23,
     "metadata": {},
     "output_type": "execute_result"
    }
   ],
   "source": [
    "c"
   ]
  },
  {
   "cell_type": "code",
   "execution_count": 27,
   "id": "a400ea90",
   "metadata": {},
   "outputs": [
    {
     "data": {
      "text/plain": [
       "array([1., 1., 1.])"
      ]
     },
     "execution_count": 27,
     "metadata": {},
     "output_type": "execute_result"
    }
   ],
   "source": [
    " e"
   ]
  },
  {
   "cell_type": "code",
   "execution_count": null,
   "id": "cc1947f0",
   "metadata": {},
   "outputs": [],
   "source": []
  },
  {
   "cell_type": "code",
   "execution_count": null,
   "id": "81386d46",
   "metadata": {},
   "outputs": [],
   "source": []
  },
  {
   "cell_type": "code",
   "execution_count": null,
   "id": "ab092748",
   "metadata": {},
   "outputs": [],
   "source": []
  },
  {
   "cell_type": "code",
   "execution_count": null,
   "id": "dcf353f4",
   "metadata": {},
   "outputs": [],
   "source": []
  },
  {
   "cell_type": "code",
   "execution_count": null,
   "id": "64fc85eb",
   "metadata": {},
   "outputs": [],
   "source": []
  },
  {
   "cell_type": "code",
   "execution_count": null,
   "id": "2a3a0f0b",
   "metadata": {},
   "outputs": [],
   "source": []
  },
  {
   "cell_type": "code",
   "execution_count": null,
   "id": "039ae25c",
   "metadata": {},
   "outputs": [],
   "source": []
  },
  {
   "cell_type": "code",
   "execution_count": null,
   "id": "43188898",
   "metadata": {},
   "outputs": [],
   "source": []
  },
  {
   "cell_type": "code",
   "execution_count": null,
   "id": "d559e66c",
   "metadata": {},
   "outputs": [],
   "source": []
  },
  {
   "cell_type": "code",
   "execution_count": null,
   "id": "fc838b7e",
   "metadata": {},
   "outputs": [],
   "source": []
  }
 ],
 "metadata": {
  "kernelspec": {
   "display_name": "base",
   "language": "python",
   "name": "python3"
  },
  "language_info": {
   "codemirror_mode": {
    "name": "ipython",
    "version": 3
   },
   "file_extension": ".py",
   "mimetype": "text/x-python",
   "name": "python",
   "nbconvert_exporter": "python",
   "pygments_lexer": "ipython3",
   "version": "3.12.7"
  }
 },
 "nbformat": 4,
 "nbformat_minor": 5
}
