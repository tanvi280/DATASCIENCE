{
 "cells": [
  {
   "cell_type": "markdown",
   "id": "fb666f2a",
   "metadata": {},
   "source": [
    "### Introduction to Python Programming\n"
   ]
  },
  {
   "cell_type": "code",
   "execution_count": null,
   "id": "a1fa3fba-8a92-4fc2-8e33-4acd381e882e",
   "metadata": {},
   "outputs": [],
   "source": []
  },
  {
   "cell_type": "code",
   "execution_count": 2,
   "id": "1c76d405",
   "metadata": {},
   "outputs": [
    {
     "name": "stdout",
     "output_type": "stream",
     "text": [
      "<class 'int'>\n",
      "<class 'float'>\n",
      "<class 'str'>\n"
     ]
    }
   ],
   "source": [
    "# Variable Defintion\n",
    "number = 1000 # Defining Integer Variable\n",
    "decimal = 1000.890 # Defining Float Variable: Decimal Value\n",
    "string = \"Hello World\" # Definig String: \"Text Information\"\n",
    "\"\"\"\n",
    "Data types in Python are as Follows:\n",
    "1. Integer\n",
    "2.Float\n",
    "3.String\n",
    "\n",
    "\"\"\"\n",
    "# Checking Datatype of Variables\n",
    "print(type(number))\n",
    "print(type(decimal))\n",
    "print(type(string))"
   ]
  },
  {
   "cell_type": "code",
   "execution_count": 1,
   "id": "f2927b95",
   "metadata": {},
   "outputs": [
    {
     "name": "stdout",
     "output_type": "stream",
     "text": [
      "100\n"
     ]
    }
   ],
   "source": [
    "# Type Casting of Data type\n",
    "num = 100.2908383  # Data type : Flaot \n",
    "print(int(num))    # Flaot is typecasted to int\n"
   ]
  },
  {
   "cell_type": "code",
   "execution_count": 7,
   "id": "40d62b1e-bdc2-4617-986d-3f5136da5a2a",
   "metadata": {},
   "outputs": [
    {
     "name": "stdin",
     "output_type": "stream",
     "text": [
      " Enter the Value: 1000\n"
     ]
    },
    {
     "name": "stdout",
     "output_type": "stream",
     "text": [
      "<class 'str'>\n",
      "1000\n",
      "1000.0\n"
     ]
    }
   ],
   "source": [
    "# Using input function\n",
    "# input ()---> Function\n",
    "num = input (' Enter the Value:')\n",
    "'''\n",
    "Whenere we use input function , the output of input function is always string \n",
    "'''\n",
    "print(type(num))\n",
    "# Doing Typecasting\n",
    "print(int(num)) # typecasting string value to integer\n",
    "print(float(num)) # typecasting string value to flaot\n",
    "      "
   ]
  },
  {
   "cell_type": "code",
   "execution_count": 9,
   "id": "cda96f32-c47a-444f-8bf6-6b71cfeff8f3",
   "metadata": {},
   "outputs": [
    {
     "name": "stdin",
     "output_type": "stream",
     "text": [
      " Enter the name of the person : Rohit Sharma\n"
     ]
    },
    {
     "name": "stdout",
     "output_type": "stream",
     "text": [
      "<class 'str'>\n"
     ]
    }
   ],
   "source": [
    "# Ask the user to enter the string using input function\n",
    "str = input (' Enter the name of the person :')\n",
    "print(type(str))"
   ]
  },
  {
   "cell_type": "code",
   "execution_count": null,
   "id": "7f7d7b05-3594-4160-9b09-02a29a753c16",
   "metadata": {},
   "outputs": [],
   "source": []
  }
 ],
 "metadata": {
  "kernelspec": {
   "display_name": "Python [conda env:base] *",
   "language": "python",
   "name": "conda-base-py"
  },
  "language_info": {
   "codemirror_mode": {
    "name": "ipython",
    "version": 3
   },
   "file_extension": ".py",
   "mimetype": "text/x-python",
   "name": "python",
   "nbconvert_exporter": "python",
   "pygments_lexer": "ipython3",
   "version": "3.12.7"
  }
 },
 "nbformat": 4,
 "nbformat_minor": 5
}
