{
 "cells": [
  {
   "cell_type": "markdown",
   "id": "fb666f2a",
   "metadata": {},
   "source": [
    "### Introduction to Python Programming\n"
   ]
  },
  {
   "cell_type": "code",
   "execution_count": null,
   "id": "a1fa3fba-8a92-4fc2-8e33-4acd381e882e",
   "metadata": {},
   "outputs": [],
   "source": []
  },
  {
   "cell_type": "code",
   "execution_count": 2,
   "id": "1c76d405",
   "metadata": {},
   "outputs": [
    {
     "name": "stdout",
     "output_type": "stream",
     "text": [
      "<class 'int'>\n",
      "<class 'float'>\n",
      "<class 'str'>\n"
     ]
    }
   ],
   "source": [
    "# Variable Defintion\n",
    "number = 1000 # Defining Integer Variable\n",
    "decimal = 1000.890 # Defining Float Variable: Decimal Value\n",
    "string = \"Hello World\" # Definig String: \"Text Information\"\n",
    "\"\"\"\n",
    "Data types in Python are as Follows:\n",
    "1. Integer\n",
    "2.Float\n",
    "3.String\n",
    "\n",
    "\"\"\"\n",
    "# Checking Datatype of Variables\n",
    "print(type(number))\n",
    "print(type(decimal))\n",
    "print(type(string))"
   ]
  },
  {
   "cell_type": "code",
   "execution_count": 1,
   "id": "f2927b95",
   "metadata": {},
   "outputs": [
    {
     "name": "stdout",
     "output_type": "stream",
     "text": [
      "100\n"
     ]
    }
   ],
   "source": [
    "# Type Casting of Data type\n",
    "num = 100.2908383  # Data type : Flaot \n",
    "print(int(num))    # Flaot is typecasted to int\n"
   ]
  },
  {
   "cell_type": "code",
   "execution_count": 7,
   "id": "40d62b1e-bdc2-4617-986d-3f5136da5a2a",
   "metadata": {},
   "outputs": [
    {
     "name": "stdout",
     "output_type": "stream",
     "text": [
      " Enter the Value: 1000\n"
     ]
    },
    {
     "name": "stdout",
     "output_type": "stream",
     "text": [
      "<class 'str'>\n",
      "1000\n",
      "1000.0\n"
     ]
    }
   ],
   "source": [
    "# Using input function\n",
    "# input ()---> Function\n",
    "num = input (' Enter the Value:')\n",
    "'''\n",
    "Whenere we use input function , the output of input function is always string \n",
    "'''\n",
    "print(type(num))\n",
    "# Doing Typecasting\n",
    "print(int(num)) # typecasting string value to integer\n",
    "print(float(num)) # typecasting string value to flaot\n",
    "      "
   ]
  },
  {
   "cell_type": "code",
   "execution_count": 9,
   "id": "cda96f32-c47a-444f-8bf6-6b71cfeff8f3",
   "metadata": {},
   "outputs": [
    {
     "name": "stdout",
     "output_type": "stream",
     "text": [
      " Enter the name of the person : Rohit Sharma\n"
     ]
    },
    {
     "name": "stdout",
     "output_type": "stream",
     "text": [
      "<class 'str'>\n"
     ]
    }
   ],
   "source": [
    "# Ask the user to enter the string using input function\n",
    "str = input (' Enter the name of the person :')\n",
    "print(type(str))"
   ]
  },
  {
   "cell_type": "code",
   "execution_count": 1,
   "id": "dcf15e91",
   "metadata": {},
   "outputs": [
    {
     "name": "stdout",
     "output_type": "stream",
     "text": [
      "The addition of two numbers as 1000.0and 2000.0is 3000.0\n"
     ]
    }
   ],
   "source": [
    "# Perform Mathematical Operations\n",
    "num1 = float(input('Enter the First Number:'))\n",
    "num2 = float(input('Enter the Second Number:'))\n",
    "num3 = num1 + num2\n",
    "# Using fstring method\n",
    "print(f'The addition of two numbers as {num1}and {num2}is',num3)\n"
   ]
  },
  {
   "cell_type": "code",
   "execution_count": 3,
   "id": "9bb5a9cf",
   "metadata": {},
   "outputs": [
    {
     "ename": "TypeError",
     "evalue": "'str' object is not callable",
     "output_type": "error",
     "traceback": [
      "\u001b[1;31m---------------------------------------------------------------------------\u001b[0m",
      "\u001b[1;31mTypeError\u001b[0m                                 Traceback (most recent call last)",
      "Cell \u001b[1;32mIn[3], line 8\u001b[0m\n\u001b[0;32m      2\u001b[0m string \u001b[38;5;241m=\u001b[39m \u001b[38;5;28minput\u001b[39m(\u001b[38;5;124m'\u001b[39m\u001b[38;5;124mEnter the String:\u001b[39m\u001b[38;5;124m'\u001b[39m)\n\u001b[0;32m      3\u001b[0m \u001b[38;5;124;03m'''\u001b[39;00m\n\u001b[0;32m      4\u001b[0m \u001b[38;5;124;03mH  e  l  l o   W o  r l  d\u001b[39;00m\n\u001b[0;32m      5\u001b[0m \u001b[38;5;124;03m0   1  2  3  4   5  6  7  8  9  10 : L---> R\u001b[39;00m\n\u001b[0;32m      6\u001b[0m \u001b[38;5;124;03m--------------- - - - 3 -2 -1              : R--->L\u001b[39;00m\n\u001b[0;32m      7\u001b[0m \u001b[38;5;124;03m'''\u001b[39;00m\n\u001b[1;32m----> 8\u001b[0m \u001b[38;5;28mprint\u001b[39m(string(\u001b[38;5;241m6\u001b[39m))\n\u001b[0;32m      9\u001b[0m \u001b[38;5;28mprint\u001b[39m(string(\u001b[38;5;241m-\u001b[39m\u001b[38;5;241m5\u001b[39m))\n",
      "\u001b[1;31mTypeError\u001b[0m: 'str' object is not callable"
     ]
    }
   ],
   "source": [
    "# String Indexing and Slicing\n",
    "string = input('Enter the String:')\n",
    "'''\n",
    "H  e  l  l o   W o  r l  d\n",
    "0   1  2  3  4   5  6  7  8  9  10 : L---> R\n",
    "--------------- - - - 3 -2 -1              : R--->L\n",
    "'''\n",
    "print(string(6))\n",
    "print(string(-5))\n",
    "\n"
   ]
  },
  {
   "cell_type": "code",
   "execution_count": 4,
   "id": "c8c6ffb1",
   "metadata": {},
   "outputs": [
    {
     "name": "stdout",
     "output_type": "stream",
     "text": [
      "ell\n",
      "Hello worl\n",
      "llo wor\n",
      "o worl\n"
     ]
    }
   ],
   "source": [
    "# Concept of Slicing \n",
    "string = input('Enter the String :')\n",
    "''' \n",
    "string[Start:Stop]\n",
    "Example:\n",
    "string = Hello World\n",
    "string[1:4] ---> o/p:--> e\n",
    "'''\n",
    "\n",
    "print(string[1:4])\n",
    "print(string[:-1])\n",
    "print(string[2:-2])\n",
    "print(string[4:-1])"
   ]
  },
  {
   "cell_type": "code",
   "execution_count": 5,
   "id": "66adbaab",
   "metadata": {},
   "outputs": [
    {
     "name": "stdout",
     "output_type": "stream",
     "text": [
      "el ol\n"
     ]
    }
   ],
   "source": [
    "# Concept of Slicing \n",
    "string = input('Enter the String :')\n",
    "''' \n",
    "string[Start:Stop:Step]\n",
    "Example:\n",
    "string = Hello World\n",
    "string[1::2] ---> o/p:--> el\n",
    "'''\n",
    "print(string[1::2]) "
   ]
  },
  {
   "cell_type": "code",
   "execution_count": 6,
   "id": "d0806d19",
   "metadata": {},
   "outputs": [
    {
     "name": "stdout",
     "output_type": "stream",
     "text": [
      "HloWloet h ol fpto rgamn\n",
      "o Welcome to the world of python programmi\n",
      "gnimmargorp nohtyp fo dlrow eht ot emocleW olleH\n"
     ]
    }
   ],
   "source": [
    "# Concept of Indexing and Slicing Together\n",
    "\n",
    "str = 'Hello Welcome to the world of python programming'\n",
    "print(str[::2])\n",
    "print(str[4:-2:])\n",
    "print(str[::-1]) "
   ]
  },
  {
   "cell_type": "code",
   "execution_count": 7,
   "id": "0705286c",
   "metadata": {},
   "outputs": [
    {
     "name": "stdout",
     "output_type": "stream",
     "text": [
      "[10, 20, 30, 40]\n",
      "<class 'list'>\n",
      "[10, 20, 30, 40, 50]\n"
     ]
    }
   ],
   "source": [
    "# Data Structures in Python Pogramming\n",
    "''' \n",
    "1. List : [] : Mutable in Nature \n",
    "2. Tuple : () : Immmutable in Nature\n",
    "3. Dictionary : {'key1': Value1, 'key2':value2}  : Immutable in Nature\n",
    "4. Sets       : {1,2,3,4,5} : Immutable in Nature  \n",
    "\n",
    "'''\n",
    "# List Definition\n",
    "\n",
    "lst = [10,20,30,40]\n",
    "\n",
    "print(lst)\n",
    "print(type(lst))\n",
    "# append() this is function which defined in class list\n",
    "# Therefore, append() is a method of class list\n",
    "# lst.append(50) : You are calling function using .operator\n",
    "lst.append(50)\n",
    "print(lst) "
   ]
  },
  {
   "cell_type": "code",
   "execution_count": 8,
   "id": "6f33a5ff",
   "metadata": {},
   "outputs": [
    {
     "name": "stdout",
     "output_type": "stream",
     "text": [
      "[5, 10, 20, 30, 40, 50]\n"
     ]
    }
   ],
   "source": [
    "lst.insert(0,5) # This function will add the value 5 at an index 0\n",
    "print(lst) "
   ]
  },
  {
   "cell_type": "code",
   "execution_count": 9,
   "id": "6f62447b",
   "metadata": {},
   "outputs": [
    {
     "data": {
      "text/plain": [
       "1"
      ]
     },
     "execution_count": 9,
     "metadata": {},
     "output_type": "execute_result"
    }
   ],
   "source": [
    "lst.count(10) "
   ]
  },
  {
   "cell_type": "code",
   "execution_count": 10,
   "id": "c83b8ec9",
   "metadata": {},
   "outputs": [
    {
     "data": {
      "text/plain": [
       "50"
      ]
     },
     "execution_count": 10,
     "metadata": {},
     "output_type": "execute_result"
    }
   ],
   "source": [
    "lst.pop() # This function will remove the last number present in the list "
   ]
  },
  {
   "cell_type": "code",
   "execution_count": 11,
   "id": "b37e34b9",
   "metadata": {},
   "outputs": [
    {
     "name": "stdout",
     "output_type": "stream",
     "text": [
      "[5, 10, 20, 30, 40]\n"
     ]
    }
   ],
   "source": [
    "print(lst)\n"
   ]
  },
  {
   "cell_type": "code",
   "execution_count": 12,
   "id": "ee15362f",
   "metadata": {},
   "outputs": [
    {
     "name": "stdout",
     "output_type": "stream",
     "text": [
      "[5, 20, 30, 40]\n"
     ]
    }
   ],
   "source": [
    "lst.remove(10) # This function will remove the specified value \n",
    "print(lst) "
   ]
  },
  {
   "cell_type": "code",
   "execution_count": 13,
   "id": "11859e40",
   "metadata": {},
   "outputs": [
    {
     "name": "stdout",
     "output_type": "stream",
     "text": [
      "[10, 10, 30, 30, 40, 20]\n"
     ]
    }
   ],
   "source": [
    "lst = [10,10,10,20,30,30,20,40,20,60]\n",
    "lst.pop()\n",
    "lst.remove(10)\n",
    "lst.remove(20)\n",
    "lst.remove(20)\n",
    "print(lst) "
   ]
  },
  {
   "cell_type": "code",
   "execution_count": 14,
   "id": "147540dc",
   "metadata": {},
   "outputs": [
    {
     "name": "stdout",
     "output_type": "stream",
     "text": [
      "6\n"
     ]
    }
   ],
   "source": [
    "# Calculate length of the numbers present in list\n",
    "# len() : Function\n",
    "print(len(lst))\n"
   ]
  },
  {
   "cell_type": "code",
   "execution_count": 15,
   "id": "0da91d4a",
   "metadata": {},
   "outputs": [
    {
     "name": "stdout",
     "output_type": "stream",
     "text": [
      "[10, 30, 50]\n",
      "[60, 50, 40, 30, 20, 10]\n",
      "30\n"
     ]
    }
   ],
   "source": [
    "# Concept of Indexing and Slicing on List\n",
    "lst = [10,20,30,40,50,60]\n",
    "print(lst[0::2])\n",
    "print(lst[::-1])\n",
    "print(lst[2]) "
   ]
  },
  {
   "cell_type": "code",
   "execution_count": 16,
   "id": "fe5664dc",
   "metadata": {},
   "outputs": [],
   "source": [
    "# Example 1\n",
    "lst = [10,20,30,[40,50,60],[1,[2,[3,4,5,6],7],8,9],10] "
   ]
  },
  {
   "cell_type": "code",
   "execution_count": 17,
   "id": "41a1ae24",
   "metadata": {},
   "outputs": [
    {
     "data": {
      "text/plain": [
       "5"
      ]
     },
     "execution_count": 17,
     "metadata": {},
     "output_type": "execute_result"
    }
   ],
   "source": [
    "# o/p : 5\n",
    "lst[4][1][1][2] "
   ]
  },
  {
   "cell_type": "code",
   "execution_count": 18,
   "id": "b2527251",
   "metadata": {},
   "outputs": [],
   "source": [
    "# Example 2\n",
    "\n",
    "lst = [10,20,[1,2,3,[10,20,[30,[40,50,[60],70],90],9,100],1000],2000,[10000]] "
   ]
  },
  {
   "cell_type": "code",
   "execution_count": 19,
   "id": "38583229",
   "metadata": {},
   "outputs": [
    {
     "data": {
      "text/plain": [
       "60"
      ]
     },
     "execution_count": 19,
     "metadata": {},
     "output_type": "execute_result"
    }
   ],
   "source": [
    "# o/p : 60\n",
    "lst[2][3][2][1][2][0] "
   ]
  },
  {
   "cell_type": "code",
   "execution_count": 20,
   "id": "3664f8b8",
   "metadata": {},
   "outputs": [
    {
     "data": {
      "text/plain": [
       "600"
      ]
     },
     "execution_count": 20,
     "metadata": {},
     "output_type": "execute_result"
    }
   ],
   "source": [
    "# Example 3\n",
    "# o/p: 600\n",
    "lst = [10,[100,200,300,[400,[500,[[[600],700],1],10],20]]]\n",
    "\n",
    "lst[1][3][1][1][0][0][0] "
   ]
  },
  {
   "cell_type": "code",
   "execution_count": 21,
   "id": "3d9e8b62",
   "metadata": {},
   "outputs": [
    {
     "data": {
      "text/plain": [
       "[800, 900, 1000]"
      ]
     },
     "execution_count": 21,
     "metadata": {},
     "output_type": "execute_result"
    }
   ],
   "source": [
    "# Example 3\n",
    "# o/p: [800,900,1000]\n",
    "lst = [10,[100,200,300,[400,[500,[[[600,700,800,900,1000,1100,1200],700],1],10],20]]]\n",
    "\n",
    "lst[1][3][1][1][0][0][2:5] "
   ]
  },
  {
   "cell_type": "code",
   "execution_count": null,
   "id": "c837185d",
   "metadata": {},
   "outputs": [],
   "source": []
  }
 ],
 "metadata": {
  "kernelspec": {
   "display_name": "base",
   "language": "python",
   "name": "python3"
  },
  "language_info": {
   "codemirror_mode": {
    "name": "ipython",
    "version": 3
   },
   "file_extension": ".py",
   "mimetype": "text/x-python",
   "name": "python",
   "nbconvert_exporter": "python",
   "pygments_lexer": "ipython3",
   "version": "3.12.7"
  }
 },
 "nbformat": 4,
 "nbformat_minor": 5
}
