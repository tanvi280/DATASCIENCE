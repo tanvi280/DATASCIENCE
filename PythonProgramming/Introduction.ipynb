{
 "cells": [
  {
   "cell_type": "markdown",
   "id": "fb666f2a",
   "metadata": {},
   "source": [
    "### Introduction to Python Programming\n"
   ]
  },
  {
   "cell_type": "code",
   "execution_count": 2,
   "id": "1c76d405",
   "metadata": {},
   "outputs": [
    {
     "name": "stdout",
     "output_type": "stream",
     "text": [
      "<class 'int'>\n",
      "<class 'float'>\n",
      "<class 'str'>\n"
     ]
    }
   ],
   "source": [
    "# Variable Defintion\n",
    "number = 1000 # Defining Integer Variable\n",
    "decimal = 1000.890 # Defining Float Variable: Decimal Value\n",
    "string = \"Hello World\" # Definig String: \"Text Information\"\n",
    "\"\"\"\n",
    "Data types in Python are as Follows:\n",
    "1. Integer\n",
    "2.Float\n",
    "3.String\n",
    "\n",
    "\"\"\"\n",
    "# Checking Datatype of Variables\n",
    "print(type(number))\n",
    "print(type(decimal))\n",
    "print(type(string))"
   ]
  },
  {
   "cell_type": "code",
   "execution_count": null,
   "id": "f2927b95",
   "metadata": {},
   "outputs": [],
   "source": []
  }
 ],
 "metadata": {
  "kernelspec": {
   "display_name": "base",
   "language": "python",
   "name": "python3"
  },
  "language_info": {
   "codemirror_mode": {
    "name": "ipython",
    "version": 3
   },
   "file_extension": ".py",
   "mimetype": "text/x-python",
   "name": "python",
   "nbconvert_exporter": "python",
   "pygments_lexer": "ipython3",
   "version": "3.12.7"
  }
 },
 "nbformat": 4,
 "nbformat_minor": 5
}
