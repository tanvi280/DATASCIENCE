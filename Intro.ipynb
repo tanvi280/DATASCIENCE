{
 "cells": [
  {
   "cell_type": "code",
   "execution_count": 1,
   "id": "a1aa568c",
   "metadata": {},
   "outputs": [
    {
     "name": "stdout",
     "output_type": "stream",
     "text": [
      "<class 'tuple'>\n"
     ]
    },
    {
     "data": {
      "text/plain": [
       "1"
      ]
     },
     "execution_count": 1,
     "metadata": {},
     "output_type": "execute_result"
    }
   ],
   "source": [
    "tuple = (10,20,30,40)\n",
    "print(type(tuple))\n",
    "tuple.count(10)\n"
   ]
  },
  {
   "cell_type": "code",
   "execution_count": 2,
   "id": "f11b66c2",
   "metadata": {},
   "outputs": [
    {
     "data": {
      "text/plain": [
       "0"
      ]
     },
     "execution_count": 2,
     "metadata": {},
     "output_type": "execute_result"
    }
   ],
   "source": [
    "tuple.index(10)\n"
   ]
  },
  {
   "cell_type": "code",
   "execution_count": 3,
   "id": "82a7d395",
   "metadata": {},
   "outputs": [
    {
     "data": {
      "text/plain": [
       "2"
      ]
     },
     "execution_count": 3,
     "metadata": {},
     "output_type": "execute_result"
    }
   ],
   "source": [
    "tuple.index(30)\n"
   ]
  },
  {
   "cell_type": "code",
   "execution_count": 4,
   "id": "748c377d",
   "metadata": {},
   "outputs": [
    {
     "data": {
      "text/plain": [
       "1"
      ]
     },
     "execution_count": 4,
     "metadata": {},
     "output_type": "execute_result"
    }
   ],
   "source": [
    "tuple.index(20)\n"
   ]
  },
  {
   "cell_type": "code",
   "execution_count": 6,
   "id": "c72898b1",
   "metadata": {},
   "outputs": [],
   "source": [
    "# tuple indexing and slicing\n",
    "tuple = (10,20,30,[40,50,(30,40,(60,70,80))])\n"
   ]
  },
  {
   "cell_type": "code",
   "execution_count": 10,
   "id": "b0cad68e",
   "metadata": {},
   "outputs": [
    {
     "data": {
      "text/plain": [
       "(70, 80)"
      ]
     },
     "execution_count": 10,
     "metadata": {},
     "output_type": "execute_result"
    }
   ],
   "source": [
    "# Example :\n",
    "# O\\p : 70,80\n",
    "tuple  [3][2][2][1:]\n"
   ]
  },
  {
   "cell_type": "code",
   "execution_count": 11,
   "id": "cbfaca1e",
   "metadata": {},
   "outputs": [
    {
     "name": "stdout",
     "output_type": "stream",
     "text": [
      "The Value is 10\n"
     ]
    }
   ],
   "source": [
    "# Conditional Statement\n",
    "'''\n",
    "if Condition== True:\n",
    "Perform Operations inside the loop\n",
    "else :\n",
    "perform this operation \n",
    "Note : = : Assignment Operator \n",
    "      : ==: Comparison Operator \n",
    "''' \n",
    "num = 10\n",
    "if num == 10:\n",
    "    print('The Value is 10')\n",
    "else:\n",
    "    print('The Value is Other Than 10')\n",
    "    "
   ]
  },
  {
   "cell_type": "code",
   "execution_count": 12,
   "id": "97fac796",
   "metadata": {},
   "outputs": [
    {
     "ename": "IndentationError",
     "evalue": "expected an indented block after 'if' statement on line 4 (2071701151.py, line 5)",
     "output_type": "error",
     "traceback": [
      "\u001b[1;36m  Cell \u001b[1;32mIn[12], line 5\u001b[1;36m\u001b[0m\n\u001b[1;33m    print('The given string is Palindrom')\u001b[0m\n\u001b[1;37m    ^\u001b[0m\n\u001b[1;31mIndentationError\u001b[0m\u001b[1;31m:\u001b[0m expected an indented block after 'if' statement on line 4\n"
     ]
    }
   ],
   "source": [
    "# Check the Given string is Palindrom\n",
    "text = 'dad'\n",
    "text1 = text[::-1]\n",
    "if text == text1:\n",
    "print('The given string is Palindrom')\n",
    "else\n",
    "print('The Given String is Not a Palidrom')\n"
   ]
  },
  {
   "cell_type": "code",
   "execution_count": null,
   "id": "0cde38f7",
   "metadata": {},
   "outputs": [],
   "source": [
    "'''\n"
   ]
  },
  {
   "cell_type": "code",
   "execution_count": 16,
   "id": "ea237b31",
   "metadata": {},
   "outputs": [
    {
     "name": "stdout",
     "output_type": "stream",
     "text": [
      "Best Student\n"
     ]
    }
   ],
   "source": [
    "'''\n",
    "marks >80 : Best Student \n",
    "Marks between 60 to 79 : Good Student \n",
    "Marks Between 50 to 59: : Average Student \n",
    "Marks < 49 : Poor Student \n",
    "''' \n",
    "marks = float(input('Enter Marks of the Student'))\n",
    "if marks >= 80 :\n",
    " print('Best Student')\n",
    "elif marks< 80 and marks > 60:\n",
    "   print('Good Student')\n",
    "elif marks <60 and marks >50:\n",
    " print ('Average Student')\n",
    "else:\n",
    " print('Poor Student')\n",
    "\n",
    "\n"
   ]
  },
  {
   "cell_type": "code",
   "execution_count": 27,
   "id": "6be9aea6",
   "metadata": {},
   "outputs": [
    {
     "name": "stdout",
     "output_type": "stream",
     "text": [
      "New Balance is  2000.0\n"
     ]
    }
   ],
   "source": [
    "'''\n",
    "balance = 10000\n",
    "withdraw = amount \n",
    "threshould = 2000\n",
    "'''\n",
    "balance = 10000\n",
    "threshould = 2000\n",
    "withdraw  = float(input('Enter the  Amount to Withdraw'))\n",
    "if withdraw >= balance :\n",
    "     print ('Insufficient Balance')\n",
    "if withdraw <= balance:\n",
    "  new_balance = balance - withdraw\n",
    "  if new_balance >= 2000:\n",
    "       print ('New Balance is ',new_balance)\n",
    "  else :\n",
    "         print('Check')  "
   ]
  },
  {
   "cell_type": "code",
   "execution_count": 28,
   "id": "d9cb75bf",
   "metadata": {},
   "outputs": [
    {
     "name": "stdout",
     "output_type": "stream",
     "text": [
      "1\n",
      "2\n",
      "3\n",
      "4\n",
      "5\n",
      "6\n",
      "7\n",
      "8\n",
      "9\n",
      "10\n"
     ]
    }
   ],
   "source": [
    "# For Loop\n",
    "for i in  range(1,11):\n",
    "    print(i)\n",
    "    \n"
   ]
  },
  {
   "cell_type": "code",
   "execution_count": 30,
   "id": "5ad6f17e",
   "metadata": {},
   "outputs": [
    {
     "name": "stdout",
     "output_type": "stream",
     "text": [
      "12345678910"
     ]
    }
   ],
   "source": [
    "for i in range(1,11):\n",
    "    print(i,end ='' '')\n",
    "    "
   ]
  },
  {
   "cell_type": "code",
   "execution_count": 31,
   "id": "f8ec6de5",
   "metadata": {},
   "outputs": [
    {
     "name": "stdout",
     "output_type": "stream",
     "text": [
      "*\n",
      "**\n",
      "***\n",
      "****\n",
      "*****\n"
     ]
    }
   ],
   "source": [
    "''' \n",
    "*\n",
    "**\n",
    "***\n",
    "****\n",
    "******\n",
    "'''\n",
    "for i in range(1,6):\n",
    "    print('*'*i)\n",
    "    "
   ]
  },
  {
   "cell_type": "code",
   "execution_count": 33,
   "id": "f19b3bcb",
   "metadata": {},
   "outputs": [
    {
     "ename": "SyntaxError",
     "evalue": "invalid syntax (1339032311.py, line 1)",
     "output_type": "error",
     "traceback": [
      "\u001b[1;36m  Cell \u001b[1;32mIn[33], line 1\u001b[1;36m\u001b[0m\n\u001b[1;33m    *\u001b[0m\n\u001b[1;37m     ^\u001b[0m\n\u001b[1;31mSyntaxError\u001b[0m\u001b[1;31m:\u001b[0m invalid syntax\n"
     ]
    }
   ],
   "source": [
    "*\n",
    "****\n",
    "**********\n",
    "*************\n",
    "**************\n",
    "for i range (0,6):\n",
    "    print('*'*i*i)\n"
   ]
  }
 ],
 "metadata": {
  "kernelspec": {
   "display_name": "base",
   "language": "python",
   "name": "python3"
  },
  "language_info": {
   "codemirror_mode": {
    "name": "ipython",
    "version": 3
   },
   "file_extension": ".py",
   "mimetype": "text/x-python",
   "name": "python",
   "nbconvert_exporter": "python",
   "pygments_lexer": "ipython3",
   "version": "3.12.7"
  }
 },
 "nbformat": 4,
 "nbformat_minor": 5
}
